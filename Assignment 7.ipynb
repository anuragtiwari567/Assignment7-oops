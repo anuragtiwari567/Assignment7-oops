{
 "cells": [
  {
   "cell_type": "markdown",
   "id": "b81da76a-5271-434e-8b60-873d2bf30e5c",
   "metadata": {},
   "source": [
    "Q1. What is Abstraction in OOps? Explain with an example.\n",
    "\n",
    "ANS:\n",
    "\n",
    "Abstraction in Object-Oriented Programming (OOP) is a concept that involves simplifying complex reality by modeling classes based on the essential properties and behaviors of objects, while ignoring irrelevant details. It allows you to create classes that represent high-level concepts without specifying all the implementation details. Abstraction focuses on what an object does rather than how it does it.\n",
    "\n",
    "In other words, abstraction helps you create a clear separation between the interface (what an object can do) and the implementation (how it does it). This separation makes it easier to manage complexity, promote code reusability, and adapt to changes in the future."
   ]
  },
  {
   "cell_type": "code",
   "execution_count": 1,
   "id": "92d2c7ef-45ba-4f0e-9408-5757214a2589",
   "metadata": {},
   "outputs": [],
   "source": [
    "from abc import ABC, abstractmethod\n",
    "\n",
    "class Vehicle(ABC):\n",
    "    def __init__(self, make, model):\n",
    "        self.make = make\n",
    "        self.model = model\n",
    "\n",
    "    @abstractmethod\n",
    "    def start(self):\n",
    "        pass\n",
    "\n",
    "    @abstractmethod\n",
    "    def stop(self):\n",
    "        pass\n",
    "\n",
    "class Car(Vehicle):\n",
    "    def start(self):\n",
    "        return f\"{self.make} {self.model} engine started.\"\n",
    "\n",
    "    def stop(self):\n",
    "        return f\"{self.make} {self.model} engine stopped.\"\n",
    "\n",
    "class Motorcycle(Vehicle):\n",
    "    def start(self):\n",
    "        return f\"{self.make} {self.model} engine started.\"\n",
    "\n",
    "    def stop(self):\n",
    "        return f\"{self.make} {self.model} engine stopped.\""
   ]
  },
  {
   "cell_type": "code",
   "execution_count": 4,
   "id": "5506b903-4bc6-4590-a96d-559d04623d45",
   "metadata": {},
   "outputs": [],
   "source": [
    "car=Car('BMW',\"M40\")\n",
    "motorcycle=Motorcycle('YAMAHA',\"R1M\")"
   ]
  },
  {
   "cell_type": "code",
   "execution_count": 6,
   "id": "9b91cd6a-4dc0-490e-a102-36bcb00be699",
   "metadata": {},
   "outputs": [
    {
     "data": {
      "text/plain": [
       "'BMW'"
      ]
     },
     "execution_count": 6,
     "metadata": {},
     "output_type": "execute_result"
    }
   ],
   "source": [
    "car.make"
   ]
  },
  {
   "cell_type": "code",
   "execution_count": 7,
   "id": "5997d9db-c488-40a7-b23f-2d8837195834",
   "metadata": {},
   "outputs": [
    {
     "data": {
      "text/plain": [
       "'R1M'"
      ]
     },
     "execution_count": 7,
     "metadata": {},
     "output_type": "execute_result"
    }
   ],
   "source": [
    "motorcycle.model"
   ]
  },
  {
   "cell_type": "code",
   "execution_count": 10,
   "id": "340ccb06-dcc0-45bb-9354-dd4bef75b383",
   "metadata": {},
   "outputs": [
    {
     "data": {
      "text/plain": [
       "'BMW M40 engine started.'"
      ]
     },
     "execution_count": 10,
     "metadata": {},
     "output_type": "execute_result"
    }
   ],
   "source": [
    "car.start()"
   ]
  },
  {
   "cell_type": "code",
   "execution_count": 11,
   "id": "1dbec7ea-6124-499c-ade1-ecb46c05aeb4",
   "metadata": {},
   "outputs": [
    {
     "data": {
      "text/plain": [
       "'YAMAHA R1M engine stopped.'"
      ]
     },
     "execution_count": 11,
     "metadata": {},
     "output_type": "execute_result"
    }
   ],
   "source": [
    "motorcycle.stop()"
   ]
  },
  {
   "cell_type": "code",
   "execution_count": null,
   "id": "68c5b76f-07c9-4643-a55b-17c4447069c3",
   "metadata": {},
   "outputs": [],
   "source": []
  },
  {
   "cell_type": "markdown",
   "id": "09256ea1-7dab-48ec-b790-f616e30a7d6a",
   "metadata": {},
   "source": [
    "Q2. Differentiate between Abstraction and Encapsulation. Explain with an example.\n",
    "\n",
    "ANS:\n",
    "\n",
    "Abstraction and encapsulation are two important concepts in object-oriented programming (OOP), but they serve different purposes and have distinct roles in designing and structuring classes and objects.\n",
    "\n",
    "Abstraction:\n",
    "\n",
    "Abstraction involves simplifying complex reality by modeling classes based on essential properties and behaviors, while ignoring unnecessary details.\n",
    "It focuses on defining the interface or contract that a class should adhere to, without providing the full implementation.\n",
    "Abstraction hides the complex implementation details and allows you to work with high-level concepts.\n",
    "Encapsulation:\n",
    "\n",
    "Encapsulation involves bundling data (attributes) and the methods (functions) that operate on that data into a single unit, called a class.\n",
    "It is about restricting direct access to an object's internal state and controlling how that state is accessed and modified.\n",
    "Encapsulation promotes data hiding and information hiding, preventing unintended modification of an object's state."
   ]
  },
  {
   "cell_type": "code",
   "execution_count": 12,
   "id": "cdae7747-1cc4-4585-ad2a-4a60962f7d8c",
   "metadata": {},
   "outputs": [],
   "source": [
    "class BankAccount:\n",
    "    def __init__(self, account_number, balance):\n",
    "        self.account_number = account_number\n",
    "        self.balance = balance\n",
    "\n",
    "    def deposit(self, amount):\n",
    "        if amount > 0:\n",
    "            self.balance += amount\n",
    "\n",
    "    def withdraw(self, amount):\n",
    "        if amount > 0 and self.balance >= amount:\n",
    "            self.balance -= amount\n",
    "\n",
    "    def get_balance(self):\n",
    "        return self.balance\n"
   ]
  },
  {
   "cell_type": "code",
   "execution_count": 21,
   "id": "9127ccd9-0462-49c8-bba1-cb73d7db14c2",
   "metadata": {},
   "outputs": [],
   "source": [
    "account = BankAccount(\"123456\", 1000)"
   ]
  },
  {
   "cell_type": "code",
   "execution_count": 22,
   "id": "d4b8ae3b-53de-4b58-a618-329b153caed9",
   "metadata": {},
   "outputs": [],
   "source": [
    "account.deposit(1500)"
   ]
  },
  {
   "cell_type": "code",
   "execution_count": 23,
   "id": "71c6ee77-66da-485a-bf45-3191e55fc4a4",
   "metadata": {},
   "outputs": [
    {
     "data": {
      "text/plain": [
       "2500"
      ]
     },
     "execution_count": 23,
     "metadata": {},
     "output_type": "execute_result"
    }
   ],
   "source": [
    "account.balance"
   ]
  },
  {
   "cell_type": "code",
   "execution_count": 24,
   "id": "b863aae5-97b3-45dc-948a-93012fddb7bf",
   "metadata": {},
   "outputs": [],
   "source": [
    "account.withdraw(500)"
   ]
  },
  {
   "cell_type": "code",
   "execution_count": 25,
   "id": "28e9fd03-c379-4e26-9151-cc487ab40e67",
   "metadata": {},
   "outputs": [
    {
     "data": {
      "text/plain": [
       "2000"
      ]
     },
     "execution_count": 25,
     "metadata": {},
     "output_type": "execute_result"
    }
   ],
   "source": [
    "account.balance"
   ]
  },
  {
   "cell_type": "code",
   "execution_count": 26,
   "id": "6322d37d-c875-4275-983c-aef2c54c67f9",
   "metadata": {},
   "outputs": [
    {
     "name": "stdout",
     "output_type": "stream",
     "text": [
      "Account Number: 123456\n",
      "Balance: 2000\n"
     ]
    }
   ],
   "source": [
    "print(f\"Account Number: {account.account_number}\")\n",
    "print(f\"Balance: {account.get_balance()}\")"
   ]
  },
  {
   "cell_type": "code",
   "execution_count": null,
   "id": "5a325917-780a-4c15-8800-e9528bb07c06",
   "metadata": {},
   "outputs": [],
   "source": []
  },
  {
   "cell_type": "markdown",
   "id": "4fce560e-04b9-4053-8079-ccafc8a4d526",
   "metadata": {},
   "source": [
    "Q3. What is abc module in python? Why is it used?\n",
    "\n",
    "ANS:\n",
    "\n",
    "The abc module in Python stands for \"Abstract Base Classes.\" It provides a way to define abstract base classes and abstract methods, promoting abstraction and enforcing a certain structure for classes that inherit from these abstract classes. Abstract base classes are classes that cannot be instantiated directly but are meant to serve as blueprints for other classes.\n",
    "\n",
    "The main purposes of the abc module are:\n",
    "\n",
    "1.Creating Abstract Base Classes: You can use the abc module to create abstract base classes by subclassing the ABC class provided by the module. These abstract base classes can define abstract methods (methods without an implementation) that subclasses must override.\n",
    "\n",
    "2.Enforcing Method Implementation: By defining abstract methods in abstract base classes, you can enforce that subclasses provide their own implementation for these methods. This helps ensure that specific behavior is implemented consistently across different subclasses.\n",
    "\n",
    "3.Promoting Code Structure: Abstract base classes provide a clear structure for your code. They allow you to define a common interface and share behavior among multiple classes that inherit from the same base class."
   ]
  },
  {
   "cell_type": "code",
   "execution_count": null,
   "id": "0d20ee60-2a2c-423e-9b7d-570863291a3c",
   "metadata": {},
   "outputs": [],
   "source": []
  },
  {
   "cell_type": "markdown",
   "id": "f36279b8-daa9-4aa4-91db-7ebd3ef8a733",
   "metadata": {},
   "source": [
    "Q4. How can we achieve data abstraction?\n",
    "\n",
    "ANS:\n",
    "\n",
    "\n",
    "Data abstraction in object-oriented programming refers to the concept of hiding the complex implementation details of data and providing a simplified interface for interacting with that data. It involves defining classes in such a way that users of those classes don't need to be aware of the internal structure and implementation of the data. This can be achieved through a combination of encapsulation and providing well-defined methods for data access and manipulation.\n",
    "\n",
    "Here's how you can achieve data abstraction in Python:\n",
    "\n",
    "Encapsulation: Encapsulation involves bundling the data (attributes) and methods that operate on that data within a single class. By setting access modifiers (such as public, protected, and private), you control how the attributes can be accessed from outside the class. This helps in hiding the implementation details of the data.\n",
    "\n",
    "Getter and Setter Methods: Instead of allowing direct access to attributes, you can provide getter methods to retrieve attribute values and setter methods to modify attribute values. This allows you to control how data is accessed and modified, enabling you to implement additional logic or validation.\n",
    "\n",
    "Private Attributes: While Python doesn't enforce strict access control like some other languages, you can use naming conventions to indicate that certain attributes are meant to be treated as private. By convention, attributes starting with an underscore (e.g., _private_attribute) are considered private, and users are encouraged not to access them directly."
   ]
  },
  {
   "cell_type": "code",
   "execution_count": 27,
   "id": "905d102d-0465-425a-93a9-c603463c9e58",
   "metadata": {},
   "outputs": [],
   "source": [
    "class BankAccount:\n",
    "    def __init__(self, account_number, balance):\n",
    "        self._account_number = account_number  # Private attribute\n",
    "        self._balance = balance                # Private attribute\n",
    "    \n",
    "    def get_account_number(self):\n",
    "        return self._account_number\n",
    "    \n",
    "    def get_balance(self):\n",
    "        return self._balance\n",
    "    \n",
    "    def deposit(self, amount):\n",
    "        if amount > 0:\n",
    "            self._balance += amount\n",
    "    \n",
    "    def withdraw(self, amount):\n",
    "        if 0 < amount <= self._balance:\n",
    "            self._balance -= amount\n"
   ]
  },
  {
   "cell_type": "code",
   "execution_count": 29,
   "id": "958cd0a2-982e-4d30-917f-9959d1b36c60",
   "metadata": {},
   "outputs": [],
   "source": [
    "account = BankAccount(\"65465484\", 10000)"
   ]
  },
  {
   "cell_type": "code",
   "execution_count": 30,
   "id": "07e6decf-376b-40f8-a91d-994bbcc68e3b",
   "metadata": {},
   "outputs": [
    {
     "name": "stdout",
     "output_type": "stream",
     "text": [
      "Account Number: 65465484\n",
      "Balance: 10000\n"
     ]
    }
   ],
   "source": [
    "print(\"Account Number:\", account.get_account_number())\n",
    "print(\"Balance:\", account.get_balance())"
   ]
  },
  {
   "cell_type": "code",
   "execution_count": 31,
   "id": "93e9e569-705f-4193-bb27-eb343f8f3c9d",
   "metadata": {},
   "outputs": [],
   "source": [
    "account.deposit(5500)\n",
    "account.withdraw(3400)"
   ]
  },
  {
   "cell_type": "code",
   "execution_count": 32,
   "id": "1a9729ce-d888-4456-8158-d78a860a5ded",
   "metadata": {},
   "outputs": [
    {
     "name": "stdout",
     "output_type": "stream",
     "text": [
      "Balance after transactions: 12100\n"
     ]
    }
   ],
   "source": [
    "print(\"Balance after transactions:\", account.get_balance())"
   ]
  },
  {
   "cell_type": "code",
   "execution_count": null,
   "id": "aa7b1913-5f9c-4130-8e42-c8ba2ddbaf70",
   "metadata": {},
   "outputs": [],
   "source": []
  },
  {
   "cell_type": "markdown",
   "id": "7b702535-7789-40c6-925b-04fed4b44ba8",
   "metadata": {},
   "source": [
    "Q5. Can we create an instance of an abstract class? Explain your answer.\n",
    "\n",
    "ANS:\n",
    "\n",
    "No, you cannot create an instance of an abstract class in Python. An abstract class is a class that is meant to be a blueprint for other classes and cannot be instantiated directly. It serves as a template that defines a common structure and behavior for its subclasses, but it doesn't provide a complete implementation for certain methods. Abstract classes are created using the abc module's ABC class and the @abstractmethod decorator.\n",
    "\n",
    "Attempting to create an instance of an abstract class will result in a TypeError because the abstract class lacks a complete implementation for one or more abstract methods."
   ]
  },
  {
   "cell_type": "code",
   "execution_count": null,
   "id": "e4a338c2-5e24-43e6-b788-7a995ba37f3b",
   "metadata": {},
   "outputs": [],
   "source": []
  }
 ],
 "metadata": {
  "kernelspec": {
   "display_name": "Python 3 (ipykernel)",
   "language": "python",
   "name": "python3"
  },
  "language_info": {
   "codemirror_mode": {
    "name": "ipython",
    "version": 3
   },
   "file_extension": ".py",
   "mimetype": "text/x-python",
   "name": "python",
   "nbconvert_exporter": "python",
   "pygments_lexer": "ipython3",
   "version": "3.10.8"
  }
 },
 "nbformat": 4,
 "nbformat_minor": 5
}
